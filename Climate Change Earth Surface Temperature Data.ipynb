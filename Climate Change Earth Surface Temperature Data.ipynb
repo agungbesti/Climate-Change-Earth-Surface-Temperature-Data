{
 "cells": [
  {
   "cell_type": "markdown",
   "metadata": {
    "id": "Znp3-A9js_IN"
   },
   "source": [
    "# Personal Project\n",
    "> Nama: **Agung Besti**\n",
    "\n",
    "> Name Project: **Climate Change Earth Surface Temperature Data**"
   ]
  },
  {
   "cell_type": "code",
   "execution_count": 1,
   "metadata": {
    "colab": {
     "base_uri": "https://localhost:8080/"
    },
    "id": "MmlAKT5DqDIY",
    "outputId": "b4b59b2b-67fa-485f-e94f-00230074d4c3"
   },
   "outputs": [
    {
     "name": "stdout",
     "output_type": "stream",
     "text": [
      "Drive already mounted at /content/gdrive; to attempt to forcibly remount, call drive.mount(\"/content/gdrive\", force_remount=True).\n"
     ]
    }
   ],
   "source": [
    "from google.colab import drive\n",
    "drive.mount('/content/gdrive')"
   ]
  },
  {
   "cell_type": "code",
   "execution_count": 2,
   "metadata": {
    "id": "V3Dp-jA9s-J7"
   },
   "outputs": [],
   "source": [
    "import os\n",
    "os.environ['KAGGLE_CONFIG_DIR'] = \"/content/gdrive/My Drive/kaggle\""
   ]
  },
  {
   "cell_type": "code",
   "execution_count": 3,
   "metadata": {
    "colab": {
     "base_uri": "https://localhost:8080/"
    },
    "id": "9d2oBufWs-Mq",
    "outputId": "c39dd424-0967-4e37-ab48-767d52f1e3f4"
   },
   "outputs": [
    {
     "name": "stdout",
     "output_type": "stream",
     "text": [
      "/content/gdrive/My Drive/kaggle\n"
     ]
    }
   ],
   "source": [
    "#changing the working directory\n",
    "%cd /content/gdrive/My Drive/kaggle"
   ]
  },
  {
   "cell_type": "code",
   "execution_count": 4,
   "metadata": {
    "colab": {
     "base_uri": "https://localhost:8080/"
    },
    "id": "6wSVyePys-O6",
    "outputId": "b3bf7c86-c0e0-40a0-ee24-a8b19d5e54f7"
   },
   "outputs": [
    {
     "name": "stdout",
     "output_type": "stream",
     "text": [
      "climate-change-earth-surface-temperature-data.zip: Skipping, found more recently modified local copy (use --force to force download)\n"
     ]
    }
   ],
   "source": [
    "!kaggle datasets download -d berkeleyearth/climate-change-earth-surface-temperature-data"
   ]
  },
  {
   "cell_type": "code",
   "execution_count": 5,
   "metadata": {
    "colab": {
     "base_uri": "https://localhost:8080/"
    },
    "id": "KWKxg7pRtV9p",
    "outputId": "fb932783-0706-4bff-af61-bdf9dba4f178"
   },
   "outputs": [
    {
     "data": {
      "text/plain": [
       "['kaggle.json',\n",
       " 'movie-genre-data.zip',\n",
       " 'kaggle_movie_train.csv',\n",
       " 'climate-change-earth-surface-temperature-data.zip',\n",
       " 'GlobalLandTemperaturesByCity.csv',\n",
       " 'GlobalLandTemperaturesByCountry.csv',\n",
       " 'GlobalLandTemperaturesByMajorCity.csv',\n",
       " 'GlobalLandTemperaturesByState.csv',\n",
       " 'GlobalTemperatures.csv']"
      ]
     },
     "execution_count": 5,
     "metadata": {
      "tags": []
     },
     "output_type": "execute_result"
    }
   ],
   "source": [
    "os.listdir('/content/gdrive/MyDrive/kaggle/')"
   ]
  },
  {
   "cell_type": "code",
   "execution_count": 6,
   "metadata": {
    "id": "QFhQekWttWAe"
   },
   "outputs": [],
   "source": [
    "import zipfile\n",
    "local_zip = '/content/gdrive/MyDrive/kaggle/climate-change-earth-surface-temperature-data.zip'\n",
    "zip_ref = zipfile.ZipFile(local_zip, 'r')\n",
    "zip_ref.extractall()\n",
    "zip_ref.close()"
   ]
  },
  {
   "cell_type": "code",
   "execution_count": 7,
   "metadata": {
    "colab": {
     "base_uri": "https://localhost:8080/"
    },
    "id": "fM_roR1JtWC4",
    "outputId": "af4b670b-6921-4f5f-a499-a5adb567e1cb"
   },
   "outputs": [
    {
     "data": {
      "text/plain": [
       "['kaggle.json',\n",
       " 'movie-genre-data.zip',\n",
       " 'kaggle_movie_train.csv',\n",
       " 'climate-change-earth-surface-temperature-data.zip',\n",
       " 'GlobalLandTemperaturesByCity.csv',\n",
       " 'GlobalLandTemperaturesByCountry.csv',\n",
       " 'GlobalLandTemperaturesByMajorCity.csv',\n",
       " 'GlobalLandTemperaturesByState.csv',\n",
       " 'GlobalTemperatures.csv']"
      ]
     },
     "execution_count": 7,
     "metadata": {
      "tags": []
     },
     "output_type": "execute_result"
    }
   ],
   "source": [
    "os.listdir('/content/gdrive/MyDrive/kaggle/')"
   ]
  },
  {
   "cell_type": "code",
   "execution_count": 8,
   "metadata": {
    "id": "B44zAh-ItWGA"
   },
   "outputs": [],
   "source": [
    "#library\n",
    "import pandas as pd\n",
    "import re\n",
    "import string\n",
    "from sklearn.model_selection import train_test_split\n",
    "import tensorflow as tf\n",
    "from tensorflow.keras.layers import LSTM,Dense,Bidirectional,Dropout\n",
    "from tensorflow.keras.models import Sequential\n",
    "from tensorflow.keras.optimizers import Adam\n",
    "from keras import backend as K\n",
    "from keras.regularizers import l2\n",
    "import time\n",
    "import matplotlib.pyplot as plt"
   ]
  },
  {
   "cell_type": "code",
   "execution_count": 9,
   "metadata": {
    "colab": {
     "base_uri": "https://localhost:8080/",
     "height": 204
    },
    "id": "5cdNz3fTtWI0",
    "outputId": "0e945d78-cb7a-4dbd-fe6e-03bfd01d8519"
   },
   "outputs": [
    {
     "data": {
      "text/html": [
       "<div>\n",
       "<style scoped>\n",
       "    .dataframe tbody tr th:only-of-type {\n",
       "        vertical-align: middle;\n",
       "    }\n",
       "\n",
       "    .dataframe tbody tr th {\n",
       "        vertical-align: top;\n",
       "    }\n",
       "\n",
       "    .dataframe thead th {\n",
       "        text-align: right;\n",
       "    }\n",
       "</style>\n",
       "<table border=\"1\" class=\"dataframe\">\n",
       "  <thead>\n",
       "    <tr style=\"text-align: right;\">\n",
       "      <th></th>\n",
       "      <th>dt</th>\n",
       "      <th>AverageTemperature</th>\n",
       "      <th>AverageTemperatureUncertainty</th>\n",
       "      <th>City</th>\n",
       "      <th>Country</th>\n",
       "      <th>Latitude</th>\n",
       "      <th>Longitude</th>\n",
       "    </tr>\n",
       "  </thead>\n",
       "  <tbody>\n",
       "    <tr>\n",
       "      <th>0</th>\n",
       "      <td>1743-11-01</td>\n",
       "      <td>6.068</td>\n",
       "      <td>1.737</td>\n",
       "      <td>Århus</td>\n",
       "      <td>Denmark</td>\n",
       "      <td>57.05N</td>\n",
       "      <td>10.33E</td>\n",
       "    </tr>\n",
       "    <tr>\n",
       "      <th>1</th>\n",
       "      <td>1743-12-01</td>\n",
       "      <td>NaN</td>\n",
       "      <td>NaN</td>\n",
       "      <td>Århus</td>\n",
       "      <td>Denmark</td>\n",
       "      <td>57.05N</td>\n",
       "      <td>10.33E</td>\n",
       "    </tr>\n",
       "    <tr>\n",
       "      <th>2</th>\n",
       "      <td>1744-01-01</td>\n",
       "      <td>NaN</td>\n",
       "      <td>NaN</td>\n",
       "      <td>Århus</td>\n",
       "      <td>Denmark</td>\n",
       "      <td>57.05N</td>\n",
       "      <td>10.33E</td>\n",
       "    </tr>\n",
       "    <tr>\n",
       "      <th>3</th>\n",
       "      <td>1744-02-01</td>\n",
       "      <td>NaN</td>\n",
       "      <td>NaN</td>\n",
       "      <td>Århus</td>\n",
       "      <td>Denmark</td>\n",
       "      <td>57.05N</td>\n",
       "      <td>10.33E</td>\n",
       "    </tr>\n",
       "    <tr>\n",
       "      <th>4</th>\n",
       "      <td>1744-03-01</td>\n",
       "      <td>NaN</td>\n",
       "      <td>NaN</td>\n",
       "      <td>Århus</td>\n",
       "      <td>Denmark</td>\n",
       "      <td>57.05N</td>\n",
       "      <td>10.33E</td>\n",
       "    </tr>\n",
       "  </tbody>\n",
       "</table>\n",
       "</div>"
      ],
      "text/plain": [
       "           dt  AverageTemperature  ...  Latitude Longitude\n",
       "0  1743-11-01               6.068  ...    57.05N    10.33E\n",
       "1  1743-12-01                 NaN  ...    57.05N    10.33E\n",
       "2  1744-01-01                 NaN  ...    57.05N    10.33E\n",
       "3  1744-02-01                 NaN  ...    57.05N    10.33E\n",
       "4  1744-03-01                 NaN  ...    57.05N    10.33E\n",
       "\n",
       "[5 rows x 7 columns]"
      ]
     },
     "execution_count": 9,
     "metadata": {
      "tags": []
     },
     "output_type": "execute_result"
    }
   ],
   "source": [
    "df = pd.read_csv(\"/content/gdrive/MyDrive/kaggle/GlobalLandTemperaturesByCity.csv\")\n",
    "df.head()"
   ]
  },
  {
   "cell_type": "markdown",
   "metadata": {
    "id": "c8I_PZ-8-93N"
   },
   "source": [
    "Melihat sebaran Negara pada dataset"
   ]
  },
  {
   "cell_type": "code",
   "execution_count": 10,
   "metadata": {
    "colab": {
     "base_uri": "https://localhost:8080/",
     "height": 1000
    },
    "id": "5oM2lmv86ar_",
    "outputId": "514b9e30-aa6f-4169-ffe0-8f2faf3d8a9c"
   },
   "outputs": [
    {
     "data": {
      "text/html": [
       "<div>\n",
       "<style scoped>\n",
       "    .dataframe tbody tr th:only-of-type {\n",
       "        vertical-align: middle;\n",
       "    }\n",
       "\n",
       "    .dataframe tbody tr th {\n",
       "        vertical-align: top;\n",
       "    }\n",
       "\n",
       "    .dataframe thead th {\n",
       "        text-align: right;\n",
       "    }\n",
       "</style>\n",
       "<table border=\"1\" class=\"dataframe\">\n",
       "  <thead>\n",
       "    <tr style=\"text-align: right;\">\n",
       "      <th></th>\n",
       "      <th>Country</th>\n",
       "      <th>Count</th>\n",
       "    </tr>\n",
       "  </thead>\n",
       "  <tbody>\n",
       "    <tr>\n",
       "      <th>0</th>\n",
       "      <td>India</td>\n",
       "      <td>1014906</td>\n",
       "    </tr>\n",
       "    <tr>\n",
       "      <th>1</th>\n",
       "      <td>China</td>\n",
       "      <td>827802</td>\n",
       "    </tr>\n",
       "    <tr>\n",
       "      <th>2</th>\n",
       "      <td>United States</td>\n",
       "      <td>687289</td>\n",
       "    </tr>\n",
       "    <tr>\n",
       "      <th>3</th>\n",
       "      <td>Brazil</td>\n",
       "      <td>475580</td>\n",
       "    </tr>\n",
       "    <tr>\n",
       "      <th>4</th>\n",
       "      <td>Russia</td>\n",
       "      <td>461234</td>\n",
       "    </tr>\n",
       "    <tr>\n",
       "      <th>5</th>\n",
       "      <td>Japan</td>\n",
       "      <td>358669</td>\n",
       "    </tr>\n",
       "    <tr>\n",
       "      <th>6</th>\n",
       "      <td>Indonesia</td>\n",
       "      <td>323255</td>\n",
       "    </tr>\n",
       "    <tr>\n",
       "      <th>7</th>\n",
       "      <td>Germany</td>\n",
       "      <td>262359</td>\n",
       "    </tr>\n",
       "    <tr>\n",
       "      <th>8</th>\n",
       "      <td>United Kingdom</td>\n",
       "      <td>220252</td>\n",
       "    </tr>\n",
       "    <tr>\n",
       "      <th>9</th>\n",
       "      <td>Mexico</td>\n",
       "      <td>209560</td>\n",
       "    </tr>\n",
       "    <tr>\n",
       "      <th>10</th>\n",
       "      <td>Nigeria</td>\n",
       "      <td>172347</td>\n",
       "    </tr>\n",
       "    <tr>\n",
       "      <th>11</th>\n",
       "      <td>Spain</td>\n",
       "      <td>159594</td>\n",
       "    </tr>\n",
       "    <tr>\n",
       "      <th>12</th>\n",
       "      <td>Iran</td>\n",
       "      <td>151651</td>\n",
       "    </tr>\n",
       "    <tr>\n",
       "      <th>13</th>\n",
       "      <td>Turkey</td>\n",
       "      <td>150306</td>\n",
       "    </tr>\n",
       "    <tr>\n",
       "      <th>14</th>\n",
       "      <td>Pakistan</td>\n",
       "      <td>139231</td>\n",
       "    </tr>\n",
       "    <tr>\n",
       "      <th>15</th>\n",
       "      <td>Italy</td>\n",
       "      <td>136038</td>\n",
       "    </tr>\n",
       "    <tr>\n",
       "      <th>16</th>\n",
       "      <td>Philippines</td>\n",
       "      <td>127700</td>\n",
       "    </tr>\n",
       "    <tr>\n",
       "      <th>17</th>\n",
       "      <td>Poland</td>\n",
       "      <td>123082</td>\n",
       "    </tr>\n",
       "    <tr>\n",
       "      <th>18</th>\n",
       "      <td>France</td>\n",
       "      <td>116604</td>\n",
       "    </tr>\n",
       "    <tr>\n",
       "      <th>19</th>\n",
       "      <td>South Africa</td>\n",
       "      <td>94050</td>\n",
       "    </tr>\n",
       "    <tr>\n",
       "      <th>20</th>\n",
       "      <td>Venezuela</td>\n",
       "      <td>91080</td>\n",
       "    </tr>\n",
       "    <tr>\n",
       "      <th>21</th>\n",
       "      <td>Colombia</td>\n",
       "      <td>88017</td>\n",
       "    </tr>\n",
       "    <tr>\n",
       "      <th>22</th>\n",
       "      <td>Romania</td>\n",
       "      <td>80975</td>\n",
       "    </tr>\n",
       "    <tr>\n",
       "      <th>23</th>\n",
       "      <td>Ukraine</td>\n",
       "      <td>77736</td>\n",
       "    </tr>\n",
       "    <tr>\n",
       "      <th>24</th>\n",
       "      <td>Netherlands</td>\n",
       "      <td>77736</td>\n",
       "    </tr>\n",
       "    <tr>\n",
       "      <th>25</th>\n",
       "      <td>Canada</td>\n",
       "      <td>75445</td>\n",
       "    </tr>\n",
       "    <tr>\n",
       "      <th>26</th>\n",
       "      <td>Malaysia</td>\n",
       "      <td>72480</td>\n",
       "    </tr>\n",
       "    <tr>\n",
       "      <th>27</th>\n",
       "      <td>Vietnam</td>\n",
       "      <td>66330</td>\n",
       "    </tr>\n",
       "    <tr>\n",
       "      <th>28</th>\n",
       "      <td>Argentina</td>\n",
       "      <td>62504</td>\n",
       "    </tr>\n",
       "    <tr>\n",
       "      <th>29</th>\n",
       "      <td>Taiwan</td>\n",
       "      <td>62190</td>\n",
       "    </tr>\n",
       "    <tr>\n",
       "      <th>30</th>\n",
       "      <td>Burma</td>\n",
       "      <td>50566</td>\n",
       "    </tr>\n",
       "    <tr>\n",
       "      <th>31</th>\n",
       "      <td>Thailand</td>\n",
       "      <td>49685</td>\n",
       "    </tr>\n",
       "    <tr>\n",
       "      <th>32</th>\n",
       "      <td>Bangladesh</td>\n",
       "      <td>49647</td>\n",
       "    </tr>\n",
       "    <tr>\n",
       "      <th>33</th>\n",
       "      <td>Egypt</td>\n",
       "      <td>47538</td>\n",
       "    </tr>\n",
       "    <tr>\n",
       "      <th>34</th>\n",
       "      <td>Chile</td>\n",
       "      <td>45568</td>\n",
       "    </tr>\n",
       "    <tr>\n",
       "      <th>35</th>\n",
       "      <td>Congo (Democratic Republic Of The)</td>\n",
       "      <td>44547</td>\n",
       "    </tr>\n",
       "    <tr>\n",
       "      <th>36</th>\n",
       "      <td>Peru</td>\n",
       "      <td>37633</td>\n",
       "    </tr>\n",
       "    <tr>\n",
       "      <th>37</th>\n",
       "      <td>Kazakhstan</td>\n",
       "      <td>36551</td>\n",
       "    </tr>\n",
       "    <tr>\n",
       "      <th>38</th>\n",
       "      <td>Cuba</td>\n",
       "      <td>32046</td>\n",
       "    </tr>\n",
       "    <tr>\n",
       "      <th>39</th>\n",
       "      <td>Tanzania</td>\n",
       "      <td>31440</td>\n",
       "    </tr>\n",
       "    <tr>\n",
       "      <th>40</th>\n",
       "      <td>Morocco</td>\n",
       "      <td>29946</td>\n",
       "    </tr>\n",
       "    <tr>\n",
       "      <th>41</th>\n",
       "      <td>Libya</td>\n",
       "      <td>29926</td>\n",
       "    </tr>\n",
       "    <tr>\n",
       "      <th>42</th>\n",
       "      <td>Hungary</td>\n",
       "      <td>29151</td>\n",
       "    </tr>\n",
       "    <tr>\n",
       "      <th>43</th>\n",
       "      <td>Australia</td>\n",
       "      <td>28478</td>\n",
       "    </tr>\n",
       "    <tr>\n",
       "      <th>44</th>\n",
       "      <td>Cameroon</td>\n",
       "      <td>28395</td>\n",
       "    </tr>\n",
       "    <tr>\n",
       "      <th>45</th>\n",
       "      <td>Belarus</td>\n",
       "      <td>25912</td>\n",
       "    </tr>\n",
       "    <tr>\n",
       "      <th>46</th>\n",
       "      <td>Côte D'Ivoire</td>\n",
       "      <td>25701</td>\n",
       "    </tr>\n",
       "    <tr>\n",
       "      <th>47</th>\n",
       "      <td>Mozambique</td>\n",
       "      <td>24000</td>\n",
       "    </tr>\n",
       "    <tr>\n",
       "      <th>48</th>\n",
       "      <td>Sri Lanka</td>\n",
       "      <td>23517</td>\n",
       "    </tr>\n",
       "    <tr>\n",
       "      <th>49</th>\n",
       "      <td>Belgium</td>\n",
       "      <td>22673</td>\n",
       "    </tr>\n",
       "    <tr>\n",
       "      <th>50</th>\n",
       "      <td>Bulgaria</td>\n",
       "      <td>22673</td>\n",
       "    </tr>\n",
       "    <tr>\n",
       "      <th>51</th>\n",
       "      <td>Ecuador</td>\n",
       "      <td>22648</td>\n",
       "    </tr>\n",
       "    <tr>\n",
       "      <th>52</th>\n",
       "      <td>Portugal</td>\n",
       "      <td>22233</td>\n",
       "    </tr>\n",
       "    <tr>\n",
       "      <th>53</th>\n",
       "      <td>Israel</td>\n",
       "      <td>22140</td>\n",
       "    </tr>\n",
       "    <tr>\n",
       "      <th>54</th>\n",
       "      <td>Greece</td>\n",
       "      <td>21981</td>\n",
       "    </tr>\n",
       "    <tr>\n",
       "      <th>55</th>\n",
       "      <td>Dominican Republic</td>\n",
       "      <td>20493</td>\n",
       "    </tr>\n",
       "    <tr>\n",
       "      <th>56</th>\n",
       "      <td>Guatemala</td>\n",
       "      <td>20277</td>\n",
       "    </tr>\n",
       "    <tr>\n",
       "      <th>57</th>\n",
       "      <td>Serbia</td>\n",
       "      <td>19434</td>\n",
       "    </tr>\n",
       "    <tr>\n",
       "      <th>58</th>\n",
       "      <td>Sudan</td>\n",
       "      <td>18798</td>\n",
       "    </tr>\n",
       "    <tr>\n",
       "      <th>59</th>\n",
       "      <td>Nepal</td>\n",
       "      <td>18291</td>\n",
       "    </tr>\n",
       "    <tr>\n",
       "      <th>60</th>\n",
       "      <td>Syria</td>\n",
       "      <td>18056</td>\n",
       "    </tr>\n",
       "    <tr>\n",
       "      <th>61</th>\n",
       "      <td>Ghana</td>\n",
       "      <td>17793</td>\n",
       "    </tr>\n",
       "    <tr>\n",
       "      <th>62</th>\n",
       "      <td>Uzbekistan</td>\n",
       "      <td>17676</td>\n",
       "    </tr>\n",
       "    <tr>\n",
       "      <th>63</th>\n",
       "      <td>New Zealand</td>\n",
       "      <td>17505</td>\n",
       "    </tr>\n",
       "    <tr>\n",
       "      <th>64</th>\n",
       "      <td>Ethiopia</td>\n",
       "      <td>17469</td>\n",
       "    </tr>\n",
       "    <tr>\n",
       "      <th>65</th>\n",
       "      <td>Afghanistan</td>\n",
       "      <td>17125</td>\n",
       "    </tr>\n",
       "    <tr>\n",
       "      <th>66</th>\n",
       "      <td>Madagascar</td>\n",
       "      <td>16326</td>\n",
       "    </tr>\n",
       "    <tr>\n",
       "      <th>67</th>\n",
       "      <td>Switzerland</td>\n",
       "      <td>16195</td>\n",
       "    </tr>\n",
       "    <tr>\n",
       "      <th>68</th>\n",
       "      <td>Lithuania</td>\n",
       "      <td>16195</td>\n",
       "    </tr>\n",
       "    <tr>\n",
       "      <th>69</th>\n",
       "      <td>Austria</td>\n",
       "      <td>16195</td>\n",
       "    </tr>\n",
       "    <tr>\n",
       "      <th>70</th>\n",
       "      <td>Sweden</td>\n",
       "      <td>16195</td>\n",
       "    </tr>\n",
       "    <tr>\n",
       "      <th>71</th>\n",
       "      <td>Czech Republic</td>\n",
       "      <td>16195</td>\n",
       "    </tr>\n",
       "    <tr>\n",
       "      <th>72</th>\n",
       "      <td>Finland</td>\n",
       "      <td>16195</td>\n",
       "    </tr>\n",
       "    <tr>\n",
       "      <th>73</th>\n",
       "      <td>Bosnia And Herzegovina</td>\n",
       "      <td>16195</td>\n",
       "    </tr>\n",
       "    <tr>\n",
       "      <th>74</th>\n",
       "      <td>Tunisia</td>\n",
       "      <td>15975</td>\n",
       "    </tr>\n",
       "    <tr>\n",
       "      <th>75</th>\n",
       "      <td>Senegal</td>\n",
       "      <td>15816</td>\n",
       "    </tr>\n",
       "    <tr>\n",
       "      <th>76</th>\n",
       "      <td>Algeria</td>\n",
       "      <td>15645</td>\n",
       "    </tr>\n",
       "    <tr>\n",
       "      <th>77</th>\n",
       "      <td>Zambia</td>\n",
       "      <td>15636</td>\n",
       "    </tr>\n",
       "    <tr>\n",
       "      <th>78</th>\n",
       "      <td>Saudi Arabia</td>\n",
       "      <td>14163</td>\n",
       "    </tr>\n",
       "    <tr>\n",
       "      <th>79</th>\n",
       "      <td>Zimbabwe</td>\n",
       "      <td>13755</td>\n",
       "    </tr>\n",
       "    <tr>\n",
       "      <th>80</th>\n",
       "      <td>Denmark</td>\n",
       "      <td>12956</td>\n",
       "    </tr>\n",
       "    <tr>\n",
       "      <th>81</th>\n",
       "      <td>Norway</td>\n",
       "      <td>12956</td>\n",
       "    </tr>\n",
       "    <tr>\n",
       "      <th>82</th>\n",
       "      <td>El Salvador</td>\n",
       "      <td>12708</td>\n",
       "    </tr>\n",
       "    <tr>\n",
       "      <th>83</th>\n",
       "      <td>Benin</td>\n",
       "      <td>11862</td>\n",
       "    </tr>\n",
       "    <tr>\n",
       "      <th>84</th>\n",
       "      <td>Kenya</td>\n",
       "      <td>11790</td>\n",
       "    </tr>\n",
       "    <tr>\n",
       "      <th>85</th>\n",
       "      <td>Bolivia</td>\n",
       "      <td>11406</td>\n",
       "    </tr>\n",
       "    <tr>\n",
       "      <th>86</th>\n",
       "      <td>Haiti</td>\n",
       "      <td>11397</td>\n",
       "    </tr>\n",
       "    <tr>\n",
       "      <th>87</th>\n",
       "      <td>Honduras</td>\n",
       "      <td>11325</td>\n",
       "    </tr>\n",
       "    <tr>\n",
       "      <th>88</th>\n",
       "      <td>Angola</td>\n",
       "      <td>11283</td>\n",
       "    </tr>\n",
       "    <tr>\n",
       "      <th>89</th>\n",
       "      <td>Paraguay</td>\n",
       "      <td>10905</td>\n",
       "    </tr>\n",
       "    <tr>\n",
       "      <th>90</th>\n",
       "      <td>Moldova</td>\n",
       "      <td>9717</td>\n",
       "    </tr>\n",
       "    <tr>\n",
       "      <th>91</th>\n",
       "      <td>Croatia</td>\n",
       "      <td>9717</td>\n",
       "    </tr>\n",
       "    <tr>\n",
       "      <th>92</th>\n",
       "      <td>Albania</td>\n",
       "      <td>9717</td>\n",
       "    </tr>\n",
       "    <tr>\n",
       "      <th>93</th>\n",
       "      <td>Iraq</td>\n",
       "      <td>9717</td>\n",
       "    </tr>\n",
       "    <tr>\n",
       "      <th>94</th>\n",
       "      <td>Somalia</td>\n",
       "      <td>9657</td>\n",
       "    </tr>\n",
       "    <tr>\n",
       "      <th>95</th>\n",
       "      <td>Nicaragua</td>\n",
       "      <td>8700</td>\n",
       "    </tr>\n",
       "    <tr>\n",
       "      <th>96</th>\n",
       "      <td>Armenia</td>\n",
       "      <td>8415</td>\n",
       "    </tr>\n",
       "    <tr>\n",
       "      <th>97</th>\n",
       "      <td>Guinea</td>\n",
       "      <td>7908</td>\n",
       "    </tr>\n",
       "    <tr>\n",
       "      <th>98</th>\n",
       "      <td>Lebanon</td>\n",
       "      <td>7798</td>\n",
       "    </tr>\n",
       "    <tr>\n",
       "      <th>99</th>\n",
       "      <td>Turkmenistan</td>\n",
       "      <td>6939</td>\n",
       "    </tr>\n",
       "    <tr>\n",
       "      <th>100</th>\n",
       "      <td>Puerto Rico</td>\n",
       "      <td>6831</td>\n",
       "    </tr>\n",
       "    <tr>\n",
       "      <th>101</th>\n",
       "      <td>Jamaica</td>\n",
       "      <td>6831</td>\n",
       "    </tr>\n",
       "    <tr>\n",
       "      <th>102</th>\n",
       "      <td>Macedonia</td>\n",
       "      <td>6478</td>\n",
       "    </tr>\n",
       "    <tr>\n",
       "      <th>103</th>\n",
       "      <td>Estonia</td>\n",
       "      <td>6478</td>\n",
       "    </tr>\n",
       "    <tr>\n",
       "      <th>104</th>\n",
       "      <td>Latvia</td>\n",
       "      <td>6478</td>\n",
       "    </tr>\n",
       "    <tr>\n",
       "      <th>105</th>\n",
       "      <td>Ireland</td>\n",
       "      <td>6478</td>\n",
       "    </tr>\n",
       "    <tr>\n",
       "      <th>106</th>\n",
       "      <td>Slovakia</td>\n",
       "      <td>6478</td>\n",
       "    </tr>\n",
       "    <tr>\n",
       "      <th>107</th>\n",
       "      <td>United Arab Emirates</td>\n",
       "      <td>6147</td>\n",
       "    </tr>\n",
       "    <tr>\n",
       "      <th>108</th>\n",
       "      <td>Mali</td>\n",
       "      <td>5931</td>\n",
       "    </tr>\n",
       "    <tr>\n",
       "      <th>109</th>\n",
       "      <td>Uganda</td>\n",
       "      <td>5895</td>\n",
       "    </tr>\n",
       "    <tr>\n",
       "      <th>110</th>\n",
       "      <td>Niger</td>\n",
       "      <td>5763</td>\n",
       "    </tr>\n",
       "    <tr>\n",
       "      <th>111</th>\n",
       "      <td>Panama</td>\n",
       "      <td>4530</td>\n",
       "    </tr>\n",
       "    <tr>\n",
       "      <th>112</th>\n",
       "      <td>Tajikistan</td>\n",
       "      <td>4362</td>\n",
       "    </tr>\n",
       "    <tr>\n",
       "      <th>113</th>\n",
       "      <td>Uruguay</td>\n",
       "      <td>4362</td>\n",
       "    </tr>\n",
       "    <tr>\n",
       "      <th>114</th>\n",
       "      <td>Gambia</td>\n",
       "      <td>3954</td>\n",
       "    </tr>\n",
       "    <tr>\n",
       "      <th>115</th>\n",
       "      <td>Sierra Leone</td>\n",
       "      <td>3954</td>\n",
       "    </tr>\n",
       "    <tr>\n",
       "      <th>116</th>\n",
       "      <td>Burkina Faso</td>\n",
       "      <td>3954</td>\n",
       "    </tr>\n",
       "    <tr>\n",
       "      <th>117</th>\n",
       "      <td>Togo</td>\n",
       "      <td>3954</td>\n",
       "    </tr>\n",
       "    <tr>\n",
       "      <th>118</th>\n",
       "      <td>Malawi</td>\n",
       "      <td>3930</td>\n",
       "    </tr>\n",
       "    <tr>\n",
       "      <th>119</th>\n",
       "      <td>Equatorial Guinea</td>\n",
       "      <td>3786</td>\n",
       "    </tr>\n",
       "    <tr>\n",
       "      <th>120</th>\n",
       "      <td>Chad</td>\n",
       "      <td>3786</td>\n",
       "    </tr>\n",
       "    <tr>\n",
       "      <th>121</th>\n",
       "      <td>Gabon</td>\n",
       "      <td>3786</td>\n",
       "    </tr>\n",
       "    <tr>\n",
       "      <th>122</th>\n",
       "      <td>Yemen</td>\n",
       "      <td>3450</td>\n",
       "    </tr>\n",
       "    <tr>\n",
       "      <th>123</th>\n",
       "      <td>Montenegro</td>\n",
       "      <td>3239</td>\n",
       "    </tr>\n",
       "    <tr>\n",
       "      <th>124</th>\n",
       "      <td>Slovenia</td>\n",
       "      <td>3239</td>\n",
       "    </tr>\n",
       "    <tr>\n",
       "      <th>125</th>\n",
       "      <td>Iceland</td>\n",
       "      <td>3165</td>\n",
       "    </tr>\n",
       "    <tr>\n",
       "      <th>126</th>\n",
       "      <td>Bahamas</td>\n",
       "      <td>3067</td>\n",
       "    </tr>\n",
       "    <tr>\n",
       "      <th>127</th>\n",
       "      <td>Georgia</td>\n",
       "      <td>2805</td>\n",
       "    </tr>\n",
       "    <tr>\n",
       "      <th>128</th>\n",
       "      <td>Reunion</td>\n",
       "      <td>2721</td>\n",
       "    </tr>\n",
       "    <tr>\n",
       "      <th>129</th>\n",
       "      <td>Mauritius</td>\n",
       "      <td>2721</td>\n",
       "    </tr>\n",
       "    <tr>\n",
       "      <th>130</th>\n",
       "      <td>Cyprus</td>\n",
       "      <td>2669</td>\n",
       "    </tr>\n",
       "    <tr>\n",
       "      <th>131</th>\n",
       "      <td>Azerbaijan</td>\n",
       "      <td>2460</td>\n",
       "    </tr>\n",
       "    <tr>\n",
       "      <th>132</th>\n",
       "      <td>Jordan</td>\n",
       "      <td>2460</td>\n",
       "    </tr>\n",
       "    <tr>\n",
       "      <th>133</th>\n",
       "      <td>Laos</td>\n",
       "      <td>2371</td>\n",
       "    </tr>\n",
       "    <tr>\n",
       "      <th>134</th>\n",
       "      <td>Mongolia</td>\n",
       "      <td>2318</td>\n",
       "    </tr>\n",
       "    <tr>\n",
       "      <th>135</th>\n",
       "      <td>Suriname</td>\n",
       "      <td>2277</td>\n",
       "    </tr>\n",
       "    <tr>\n",
       "      <th>136</th>\n",
       "      <td>Guyana</td>\n",
       "      <td>2277</td>\n",
       "    </tr>\n",
       "    <tr>\n",
       "      <th>137</th>\n",
       "      <td>Singapore</td>\n",
       "      <td>2265</td>\n",
       "    </tr>\n",
       "    <tr>\n",
       "      <th>138</th>\n",
       "      <td>Cambodia</td>\n",
       "      <td>2265</td>\n",
       "    </tr>\n",
       "    <tr>\n",
       "      <th>139</th>\n",
       "      <td>South Korea</td>\n",
       "      <td>2097</td>\n",
       "    </tr>\n",
       "    <tr>\n",
       "      <th>140</th>\n",
       "      <td>Hong Kong</td>\n",
       "      <td>2082</td>\n",
       "    </tr>\n",
       "    <tr>\n",
       "      <th>141</th>\n",
       "      <td>Bahrain</td>\n",
       "      <td>2049</td>\n",
       "    </tr>\n",
       "    <tr>\n",
       "      <th>142</th>\n",
       "      <td>Qatar</td>\n",
       "      <td>2049</td>\n",
       "    </tr>\n",
       "    <tr>\n",
       "      <th>143</th>\n",
       "      <td>Mauritania</td>\n",
       "      <td>1977</td>\n",
       "    </tr>\n",
       "    <tr>\n",
       "      <th>144</th>\n",
       "      <td>Guinea Bissau</td>\n",
       "      <td>1977</td>\n",
       "    </tr>\n",
       "    <tr>\n",
       "      <th>145</th>\n",
       "      <td>Liberia</td>\n",
       "      <td>1977</td>\n",
       "    </tr>\n",
       "    <tr>\n",
       "      <th>146</th>\n",
       "      <td>Rwanda</td>\n",
       "      <td>1965</td>\n",
       "    </tr>\n",
       "    <tr>\n",
       "      <th>147</th>\n",
       "      <td>Burundi</td>\n",
       "      <td>1965</td>\n",
       "    </tr>\n",
       "    <tr>\n",
       "      <th>148</th>\n",
       "      <td>Costa Rica</td>\n",
       "      <td>1953</td>\n",
       "    </tr>\n",
       "    <tr>\n",
       "      <th>149</th>\n",
       "      <td>Congo</td>\n",
       "      <td>1893</td>\n",
       "    </tr>\n",
       "    <tr>\n",
       "      <th>150</th>\n",
       "      <td>Central African Republic</td>\n",
       "      <td>1893</td>\n",
       "    </tr>\n",
       "    <tr>\n",
       "      <th>151</th>\n",
       "      <td>Lesotho</td>\n",
       "      <td>1881</td>\n",
       "    </tr>\n",
       "    <tr>\n",
       "      <th>152</th>\n",
       "      <td>Swaziland</td>\n",
       "      <td>1881</td>\n",
       "    </tr>\n",
       "    <tr>\n",
       "      <th>153</th>\n",
       "      <td>Botswana</td>\n",
       "      <td>1881</td>\n",
       "    </tr>\n",
       "    <tr>\n",
       "      <th>154</th>\n",
       "      <td>Namibia</td>\n",
       "      <td>1881</td>\n",
       "    </tr>\n",
       "    <tr>\n",
       "      <th>155</th>\n",
       "      <td>Djibouti</td>\n",
       "      <td>1797</td>\n",
       "    </tr>\n",
       "    <tr>\n",
       "      <th>156</th>\n",
       "      <td>Eritrea</td>\n",
       "      <td>1797</td>\n",
       "    </tr>\n",
       "    <tr>\n",
       "      <th>157</th>\n",
       "      <td>Oman</td>\n",
       "      <td>1653</td>\n",
       "    </tr>\n",
       "    <tr>\n",
       "      <th>158</th>\n",
       "      <td>Papua New Guinea</td>\n",
       "      <td>1581</td>\n",
       "    </tr>\n",
       "  </tbody>\n",
       "</table>\n",
       "</div>"
      ],
      "text/plain": [
       "                                Country    Count\n",
       "0                                 India  1014906\n",
       "1                                 China   827802\n",
       "2                         United States   687289\n",
       "3                                Brazil   475580\n",
       "4                                Russia   461234\n",
       "5                                 Japan   358669\n",
       "6                             Indonesia   323255\n",
       "7                               Germany   262359\n",
       "8                        United Kingdom   220252\n",
       "9                                Mexico   209560\n",
       "10                              Nigeria   172347\n",
       "11                                Spain   159594\n",
       "12                                 Iran   151651\n",
       "13                               Turkey   150306\n",
       "14                             Pakistan   139231\n",
       "15                                Italy   136038\n",
       "16                          Philippines   127700\n",
       "17                               Poland   123082\n",
       "18                               France   116604\n",
       "19                         South Africa    94050\n",
       "20                            Venezuela    91080\n",
       "21                             Colombia    88017\n",
       "22                              Romania    80975\n",
       "23                              Ukraine    77736\n",
       "24                          Netherlands    77736\n",
       "25                               Canada    75445\n",
       "26                             Malaysia    72480\n",
       "27                              Vietnam    66330\n",
       "28                            Argentina    62504\n",
       "29                               Taiwan    62190\n",
       "30                                Burma    50566\n",
       "31                             Thailand    49685\n",
       "32                           Bangladesh    49647\n",
       "33                                Egypt    47538\n",
       "34                                Chile    45568\n",
       "35   Congo (Democratic Republic Of The)    44547\n",
       "36                                 Peru    37633\n",
       "37                           Kazakhstan    36551\n",
       "38                                 Cuba    32046\n",
       "39                             Tanzania    31440\n",
       "40                              Morocco    29946\n",
       "41                                Libya    29926\n",
       "42                              Hungary    29151\n",
       "43                            Australia    28478\n",
       "44                             Cameroon    28395\n",
       "45                              Belarus    25912\n",
       "46                        Côte D'Ivoire    25701\n",
       "47                           Mozambique    24000\n",
       "48                            Sri Lanka    23517\n",
       "49                              Belgium    22673\n",
       "50                             Bulgaria    22673\n",
       "51                              Ecuador    22648\n",
       "52                             Portugal    22233\n",
       "53                               Israel    22140\n",
       "54                               Greece    21981\n",
       "55                   Dominican Republic    20493\n",
       "56                            Guatemala    20277\n",
       "57                               Serbia    19434\n",
       "58                                Sudan    18798\n",
       "59                                Nepal    18291\n",
       "60                                Syria    18056\n",
       "61                                Ghana    17793\n",
       "62                           Uzbekistan    17676\n",
       "63                          New Zealand    17505\n",
       "64                             Ethiopia    17469\n",
       "65                          Afghanistan    17125\n",
       "66                           Madagascar    16326\n",
       "67                          Switzerland    16195\n",
       "68                            Lithuania    16195\n",
       "69                              Austria    16195\n",
       "70                               Sweden    16195\n",
       "71                       Czech Republic    16195\n",
       "72                              Finland    16195\n",
       "73               Bosnia And Herzegovina    16195\n",
       "74                              Tunisia    15975\n",
       "75                              Senegal    15816\n",
       "76                              Algeria    15645\n",
       "77                               Zambia    15636\n",
       "78                         Saudi Arabia    14163\n",
       "79                             Zimbabwe    13755\n",
       "80                              Denmark    12956\n",
       "81                               Norway    12956\n",
       "82                          El Salvador    12708\n",
       "83                                Benin    11862\n",
       "84                                Kenya    11790\n",
       "85                              Bolivia    11406\n",
       "86                                Haiti    11397\n",
       "87                             Honduras    11325\n",
       "88                               Angola    11283\n",
       "89                             Paraguay    10905\n",
       "90                              Moldova     9717\n",
       "91                              Croatia     9717\n",
       "92                              Albania     9717\n",
       "93                                 Iraq     9717\n",
       "94                              Somalia     9657\n",
       "95                            Nicaragua     8700\n",
       "96                              Armenia     8415\n",
       "97                               Guinea     7908\n",
       "98                              Lebanon     7798\n",
       "99                         Turkmenistan     6939\n",
       "100                         Puerto Rico     6831\n",
       "101                             Jamaica     6831\n",
       "102                           Macedonia     6478\n",
       "103                             Estonia     6478\n",
       "104                              Latvia     6478\n",
       "105                             Ireland     6478\n",
       "106                            Slovakia     6478\n",
       "107                United Arab Emirates     6147\n",
       "108                                Mali     5931\n",
       "109                              Uganda     5895\n",
       "110                               Niger     5763\n",
       "111                              Panama     4530\n",
       "112                          Tajikistan     4362\n",
       "113                             Uruguay     4362\n",
       "114                              Gambia     3954\n",
       "115                        Sierra Leone     3954\n",
       "116                        Burkina Faso     3954\n",
       "117                                Togo     3954\n",
       "118                              Malawi     3930\n",
       "119                   Equatorial Guinea     3786\n",
       "120                                Chad     3786\n",
       "121                               Gabon     3786\n",
       "122                               Yemen     3450\n",
       "123                          Montenegro     3239\n",
       "124                            Slovenia     3239\n",
       "125                             Iceland     3165\n",
       "126                             Bahamas     3067\n",
       "127                             Georgia     2805\n",
       "128                             Reunion     2721\n",
       "129                           Mauritius     2721\n",
       "130                              Cyprus     2669\n",
       "131                          Azerbaijan     2460\n",
       "132                              Jordan     2460\n",
       "133                                Laos     2371\n",
       "134                            Mongolia     2318\n",
       "135                            Suriname     2277\n",
       "136                              Guyana     2277\n",
       "137                           Singapore     2265\n",
       "138                            Cambodia     2265\n",
       "139                         South Korea     2097\n",
       "140                           Hong Kong     2082\n",
       "141                             Bahrain     2049\n",
       "142                               Qatar     2049\n",
       "143                          Mauritania     1977\n",
       "144                       Guinea Bissau     1977\n",
       "145                             Liberia     1977\n",
       "146                              Rwanda     1965\n",
       "147                             Burundi     1965\n",
       "148                          Costa Rica     1953\n",
       "149                               Congo     1893\n",
       "150            Central African Republic     1893\n",
       "151                             Lesotho     1881\n",
       "152                           Swaziland     1881\n",
       "153                            Botswana     1881\n",
       "154                             Namibia     1881\n",
       "155                            Djibouti     1797\n",
       "156                             Eritrea     1797\n",
       "157                                Oman     1653\n",
       "158                    Papua New Guinea     1581"
      ]
     },
     "execution_count": 10,
     "metadata": {
      "tags": []
     },
     "output_type": "execute_result"
    }
   ],
   "source": [
    "values = df['Country'].value_counts().keys().tolist()\n",
    "counts = df['Country'].value_counts().tolist()\n",
    "dt = pd.DataFrame(list(zip(values, counts)), \n",
    "               columns =['Country', 'Count']) \n",
    "pd.set_option('display.max_rows', dt.shape[0]+1)\n",
    "dt"
   ]
  },
  {
   "cell_type": "markdown",
   "metadata": {
    "id": "qfAvQI_Rv8Gx"
   },
   "source": [
    "Menghapus kolom yang tidak dibutuhkan"
   ]
  },
  {
   "cell_type": "code",
   "execution_count": 11,
   "metadata": {
    "colab": {
     "base_uri": "https://localhost:8080/",
     "height": 419
    },
    "id": "wHk178W9v6dY",
    "outputId": "bfca689e-740b-4b77-d934-2264f375ddf4"
   },
   "outputs": [
    {
     "data": {
      "text/html": [
       "<div>\n",
       "<style scoped>\n",
       "    .dataframe tbody tr th:only-of-type {\n",
       "        vertical-align: middle;\n",
       "    }\n",
       "\n",
       "    .dataframe tbody tr th {\n",
       "        vertical-align: top;\n",
       "    }\n",
       "\n",
       "    .dataframe thead th {\n",
       "        text-align: right;\n",
       "    }\n",
       "</style>\n",
       "<table border=\"1\" class=\"dataframe\">\n",
       "  <thead>\n",
       "    <tr style=\"text-align: right;\">\n",
       "      <th></th>\n",
       "      <th>dt</th>\n",
       "      <th>AverageTemperature</th>\n",
       "      <th>AverageTemperatureUncertainty</th>\n",
       "      <th>Country</th>\n",
       "    </tr>\n",
       "  </thead>\n",
       "  <tbody>\n",
       "    <tr>\n",
       "      <th>0</th>\n",
       "      <td>1743-11-01</td>\n",
       "      <td>6.068</td>\n",
       "      <td>1.737</td>\n",
       "      <td>Denmark</td>\n",
       "    </tr>\n",
       "    <tr>\n",
       "      <th>1</th>\n",
       "      <td>1743-12-01</td>\n",
       "      <td>NaN</td>\n",
       "      <td>NaN</td>\n",
       "      <td>Denmark</td>\n",
       "    </tr>\n",
       "    <tr>\n",
       "      <th>2</th>\n",
       "      <td>1744-01-01</td>\n",
       "      <td>NaN</td>\n",
       "      <td>NaN</td>\n",
       "      <td>Denmark</td>\n",
       "    </tr>\n",
       "    <tr>\n",
       "      <th>3</th>\n",
       "      <td>1744-02-01</td>\n",
       "      <td>NaN</td>\n",
       "      <td>NaN</td>\n",
       "      <td>Denmark</td>\n",
       "    </tr>\n",
       "    <tr>\n",
       "      <th>4</th>\n",
       "      <td>1744-03-01</td>\n",
       "      <td>NaN</td>\n",
       "      <td>NaN</td>\n",
       "      <td>Denmark</td>\n",
       "    </tr>\n",
       "    <tr>\n",
       "      <th>...</th>\n",
       "      <td>...</td>\n",
       "      <td>...</td>\n",
       "      <td>...</td>\n",
       "      <td>...</td>\n",
       "    </tr>\n",
       "    <tr>\n",
       "      <th>8599207</th>\n",
       "      <td>2013-05-01</td>\n",
       "      <td>11.464</td>\n",
       "      <td>0.236</td>\n",
       "      <td>Netherlands</td>\n",
       "    </tr>\n",
       "    <tr>\n",
       "      <th>8599208</th>\n",
       "      <td>2013-06-01</td>\n",
       "      <td>15.043</td>\n",
       "      <td>0.261</td>\n",
       "      <td>Netherlands</td>\n",
       "    </tr>\n",
       "    <tr>\n",
       "      <th>8599209</th>\n",
       "      <td>2013-07-01</td>\n",
       "      <td>18.775</td>\n",
       "      <td>0.193</td>\n",
       "      <td>Netherlands</td>\n",
       "    </tr>\n",
       "    <tr>\n",
       "      <th>8599210</th>\n",
       "      <td>2013-08-01</td>\n",
       "      <td>18.025</td>\n",
       "      <td>0.298</td>\n",
       "      <td>Netherlands</td>\n",
       "    </tr>\n",
       "    <tr>\n",
       "      <th>8599211</th>\n",
       "      <td>2013-09-01</td>\n",
       "      <td>NaN</td>\n",
       "      <td>NaN</td>\n",
       "      <td>Netherlands</td>\n",
       "    </tr>\n",
       "  </tbody>\n",
       "</table>\n",
       "<p>8599212 rows × 4 columns</p>\n",
       "</div>"
      ],
      "text/plain": [
       "                 dt  ...      Country\n",
       "0        1743-11-01  ...      Denmark\n",
       "1        1743-12-01  ...      Denmark\n",
       "2        1744-01-01  ...      Denmark\n",
       "3        1744-02-01  ...      Denmark\n",
       "4        1744-03-01  ...      Denmark\n",
       "...             ...  ...          ...\n",
       "8599207  2013-05-01  ...  Netherlands\n",
       "8599208  2013-06-01  ...  Netherlands\n",
       "8599209  2013-07-01  ...  Netherlands\n",
       "8599210  2013-08-01  ...  Netherlands\n",
       "8599211  2013-09-01  ...  Netherlands\n",
       "\n",
       "[8599212 rows x 4 columns]"
      ]
     },
     "metadata": {
      "tags": []
     },
     "output_type": "display_data"
    }
   ],
   "source": [
    "df.drop(['City','Latitude','Longitude'], axis=1, inplace=True)\n",
    "display(df)"
   ]
  },
  {
   "cell_type": "markdown",
   "metadata": {
    "id": "bJzgy5kExG0h"
   },
   "source": [
    "Mengambil hanya data negara Australia"
   ]
  },
  {
   "cell_type": "code",
   "execution_count": 12,
   "metadata": {
    "colab": {
     "base_uri": "https://localhost:8080/",
     "height": 419
    },
    "id": "9EFtID_Pv6fu",
    "outputId": "9f6b91a1-33aa-4912-83db-6a02e6db900c"
   },
   "outputs": [
    {
     "data": {
      "text/html": [
       "<div>\n",
       "<style scoped>\n",
       "    .dataframe tbody tr th:only-of-type {\n",
       "        vertical-align: middle;\n",
       "    }\n",
       "\n",
       "    .dataframe tbody tr th {\n",
       "        vertical-align: top;\n",
       "    }\n",
       "\n",
       "    .dataframe thead th {\n",
       "        text-align: right;\n",
       "    }\n",
       "</style>\n",
       "<table border=\"1\" class=\"dataframe\">\n",
       "  <thead>\n",
       "    <tr style=\"text-align: right;\">\n",
       "      <th></th>\n",
       "      <th>dt</th>\n",
       "      <th>AverageTemperature</th>\n",
       "      <th>AverageTemperatureUncertainty</th>\n",
       "      <th>Country</th>\n",
       "    </tr>\n",
       "  </thead>\n",
       "  <tbody>\n",
       "    <tr>\n",
       "      <th>78638</th>\n",
       "      <td>1841-01-01</td>\n",
       "      <td>21.432</td>\n",
       "      <td>3.286</td>\n",
       "      <td>Australia</td>\n",
       "    </tr>\n",
       "    <tr>\n",
       "      <th>78639</th>\n",
       "      <td>1841-02-01</td>\n",
       "      <td>22.087</td>\n",
       "      <td>2.458</td>\n",
       "      <td>Australia</td>\n",
       "    </tr>\n",
       "    <tr>\n",
       "      <th>78640</th>\n",
       "      <td>1841-03-01</td>\n",
       "      <td>18.859</td>\n",
       "      <td>3.547</td>\n",
       "      <td>Australia</td>\n",
       "    </tr>\n",
       "    <tr>\n",
       "      <th>78641</th>\n",
       "      <td>1841-04-01</td>\n",
       "      <td>15.033</td>\n",
       "      <td>1.884</td>\n",
       "      <td>Australia</td>\n",
       "    </tr>\n",
       "    <tr>\n",
       "      <th>78642</th>\n",
       "      <td>1841-05-01</td>\n",
       "      <td>12.864</td>\n",
       "      <td>1.481</td>\n",
       "      <td>Australia</td>\n",
       "    </tr>\n",
       "    <tr>\n",
       "      <th>...</th>\n",
       "      <td>...</td>\n",
       "      <td>...</td>\n",
       "      <td>...</td>\n",
       "      <td>...</td>\n",
       "    </tr>\n",
       "    <tr>\n",
       "      <th>8243888</th>\n",
       "      <td>2013-05-01</td>\n",
       "      <td>16.947</td>\n",
       "      <td>0.154</td>\n",
       "      <td>Australia</td>\n",
       "    </tr>\n",
       "    <tr>\n",
       "      <th>8243889</th>\n",
       "      <td>2013-06-01</td>\n",
       "      <td>15.911</td>\n",
       "      <td>0.176</td>\n",
       "      <td>Australia</td>\n",
       "    </tr>\n",
       "    <tr>\n",
       "      <th>8243890</th>\n",
       "      <td>2013-07-01</td>\n",
       "      <td>15.518</td>\n",
       "      <td>0.178</td>\n",
       "      <td>Australia</td>\n",
       "    </tr>\n",
       "    <tr>\n",
       "      <th>8243891</th>\n",
       "      <td>2013-08-01</td>\n",
       "      <td>16.126</td>\n",
       "      <td>0.325</td>\n",
       "      <td>Australia</td>\n",
       "    </tr>\n",
       "    <tr>\n",
       "      <th>8243892</th>\n",
       "      <td>2013-09-01</td>\n",
       "      <td>NaN</td>\n",
       "      <td>NaN</td>\n",
       "      <td>Australia</td>\n",
       "    </tr>\n",
       "  </tbody>\n",
       "</table>\n",
       "<p>28478 rows × 4 columns</p>\n",
       "</div>"
      ],
      "text/plain": [
       "                 dt  ...    Country\n",
       "78638    1841-01-01  ...  Australia\n",
       "78639    1841-02-01  ...  Australia\n",
       "78640    1841-03-01  ...  Australia\n",
       "78641    1841-04-01  ...  Australia\n",
       "78642    1841-05-01  ...  Australia\n",
       "...             ...  ...        ...\n",
       "8243888  2013-05-01  ...  Australia\n",
       "8243889  2013-06-01  ...  Australia\n",
       "8243890  2013-07-01  ...  Australia\n",
       "8243891  2013-08-01  ...  Australia\n",
       "8243892  2013-09-01  ...  Australia\n",
       "\n",
       "[28478 rows x 4 columns]"
      ]
     },
     "metadata": {
      "tags": []
     },
     "output_type": "display_data"
    }
   ],
   "source": [
    "df = df.loc[df['Country'].isin(['Australia'])]\n",
    "display(df)"
   ]
  },
  {
   "cell_type": "markdown",
   "metadata": {
    "id": "dbbsf6roxWqN"
   },
   "source": [
    "Mengambil data hanya dari tahun 1900 - 2013"
   ]
  },
  {
   "cell_type": "code",
   "execution_count": 13,
   "metadata": {
    "colab": {
     "base_uri": "https://localhost:8080/",
     "height": 419
    },
    "id": "L-T5-knav6hz",
    "outputId": "eed4cc02-e902-494e-c882-1510720959fa"
   },
   "outputs": [
    {
     "data": {
      "text/html": [
       "<div>\n",
       "<style scoped>\n",
       "    .dataframe tbody tr th:only-of-type {\n",
       "        vertical-align: middle;\n",
       "    }\n",
       "\n",
       "    .dataframe tbody tr th {\n",
       "        vertical-align: top;\n",
       "    }\n",
       "\n",
       "    .dataframe thead th {\n",
       "        text-align: right;\n",
       "    }\n",
       "</style>\n",
       "<table border=\"1\" class=\"dataframe\">\n",
       "  <thead>\n",
       "    <tr style=\"text-align: right;\">\n",
       "      <th></th>\n",
       "      <th>dt</th>\n",
       "      <th>AverageTemperature</th>\n",
       "      <th>AverageTemperatureUncertainty</th>\n",
       "      <th>Country</th>\n",
       "    </tr>\n",
       "  </thead>\n",
       "  <tbody>\n",
       "    <tr>\n",
       "      <th>79347</th>\n",
       "      <td>1900-02-01</td>\n",
       "      <td>22.683</td>\n",
       "      <td>0.642</td>\n",
       "      <td>Australia</td>\n",
       "    </tr>\n",
       "    <tr>\n",
       "      <th>79348</th>\n",
       "      <td>1900-03-01</td>\n",
       "      <td>18.825</td>\n",
       "      <td>0.353</td>\n",
       "      <td>Australia</td>\n",
       "    </tr>\n",
       "    <tr>\n",
       "      <th>79349</th>\n",
       "      <td>1900-04-01</td>\n",
       "      <td>14.800</td>\n",
       "      <td>0.449</td>\n",
       "      <td>Australia</td>\n",
       "    </tr>\n",
       "    <tr>\n",
       "      <th>79350</th>\n",
       "      <td>1900-05-01</td>\n",
       "      <td>12.161</td>\n",
       "      <td>0.176</td>\n",
       "      <td>Australia</td>\n",
       "    </tr>\n",
       "    <tr>\n",
       "      <th>79351</th>\n",
       "      <td>1900-06-01</td>\n",
       "      <td>10.872</td>\n",
       "      <td>0.475</td>\n",
       "      <td>Australia</td>\n",
       "    </tr>\n",
       "    <tr>\n",
       "      <th>...</th>\n",
       "      <td>...</td>\n",
       "      <td>...</td>\n",
       "      <td>...</td>\n",
       "      <td>...</td>\n",
       "    </tr>\n",
       "    <tr>\n",
       "      <th>8243888</th>\n",
       "      <td>2013-05-01</td>\n",
       "      <td>16.947</td>\n",
       "      <td>0.154</td>\n",
       "      <td>Australia</td>\n",
       "    </tr>\n",
       "    <tr>\n",
       "      <th>8243889</th>\n",
       "      <td>2013-06-01</td>\n",
       "      <td>15.911</td>\n",
       "      <td>0.176</td>\n",
       "      <td>Australia</td>\n",
       "    </tr>\n",
       "    <tr>\n",
       "      <th>8243890</th>\n",
       "      <td>2013-07-01</td>\n",
       "      <td>15.518</td>\n",
       "      <td>0.178</td>\n",
       "      <td>Australia</td>\n",
       "    </tr>\n",
       "    <tr>\n",
       "      <th>8243891</th>\n",
       "      <td>2013-08-01</td>\n",
       "      <td>16.126</td>\n",
       "      <td>0.325</td>\n",
       "      <td>Australia</td>\n",
       "    </tr>\n",
       "    <tr>\n",
       "      <th>8243892</th>\n",
       "      <td>2013-09-01</td>\n",
       "      <td>NaN</td>\n",
       "      <td>NaN</td>\n",
       "      <td>Australia</td>\n",
       "    </tr>\n",
       "  </tbody>\n",
       "</table>\n",
       "<p>19096 rows × 4 columns</p>\n",
       "</div>"
      ],
      "text/plain": [
       "                dt  ...    Country\n",
       "79347   1900-02-01  ...  Australia\n",
       "79348   1900-03-01  ...  Australia\n",
       "79349   1900-04-01  ...  Australia\n",
       "79350   1900-05-01  ...  Australia\n",
       "79351   1900-06-01  ...  Australia\n",
       "...            ...  ...        ...\n",
       "8243888 2013-05-01  ...  Australia\n",
       "8243889 2013-06-01  ...  Australia\n",
       "8243890 2013-07-01  ...  Australia\n",
       "8243891 2013-08-01  ...  Australia\n",
       "8243892 2013-09-01  ...  Australia\n",
       "\n",
       "[19096 rows x 4 columns]"
      ]
     },
     "metadata": {
      "tags": []
     },
     "output_type": "display_data"
    }
   ],
   "source": [
    "df['dt'] = pd.to_datetime(df['dt'])  \n",
    "get_data = (df['dt'] > '1900-01-01') & (df['dt'] <= '2013-09-01')\n",
    "df.loc[get_data]\n",
    "\n",
    "df = df.loc[get_data]\n",
    "display(df)"
   ]
  },
  {
   "cell_type": "markdown",
   "metadata": {
    "id": "7XnKM_SZxygF"
   },
   "source": [
    "Mengecek data apakah ada nilai yang null / nan"
   ]
  },
  {
   "cell_type": "code",
   "execution_count": 14,
   "metadata": {
    "colab": {
     "base_uri": "https://localhost:8080/"
    },
    "id": "VXfQ9aDLv6j7",
    "outputId": "b17ebaf7-0f17-4a60-df69-82afd0ba7464"
   },
   "outputs": [
    {
     "data": {
      "text/plain": [
       "dt                                0\n",
       "AverageTemperature               14\n",
       "AverageTemperatureUncertainty    14\n",
       "Country                           0\n",
       "dtype: int64"
      ]
     },
     "execution_count": 14,
     "metadata": {
      "tags": []
     },
     "output_type": "execute_result"
    }
   ],
   "source": [
    "df.isnull().sum()"
   ]
  },
  {
   "cell_type": "markdown",
   "metadata": {
    "id": "H_QoafKkyA5R"
   },
   "source": [
    "Drop baris yg memiliki nilai null / nan "
   ]
  },
  {
   "cell_type": "code",
   "execution_count": 15,
   "metadata": {
    "colab": {
     "base_uri": "https://localhost:8080/"
    },
    "id": "A6cgzUgXv6mR",
    "outputId": "5c0477a1-a5e1-4469-b2b3-60589213304e"
   },
   "outputs": [
    {
     "data": {
      "text/plain": [
       "dt                               0\n",
       "AverageTemperature               0\n",
       "AverageTemperatureUncertainty    0\n",
       "Country                          0\n",
       "dtype: int64"
      ]
     },
     "execution_count": 15,
     "metadata": {
      "tags": []
     },
     "output_type": "execute_result"
    }
   ],
   "source": [
    "df.dropna(subset=['AverageTemperature'],inplace=True)\n",
    "df.dropna(subset=['AverageTemperatureUncertainty'],inplace=True)\n",
    "df.isnull().sum()"
   ]
  },
  {
   "cell_type": "markdown",
   "metadata": {
    "id": "OXLo0zAJyVIc"
   },
   "source": [
    "Plot Tiap Kolom"
   ]
  },
  {
   "cell_type": "code",
   "execution_count": 16,
   "metadata": {
    "colab": {
     "base_uri": "https://localhost:8080/",
     "height": 503
    },
    "id": "nbrCVl7_v6ov",
    "outputId": "5f317853-cda4-45db-95d8-d91260918bae"
   },
   "outputs": [
    {
     "data": {
      "image/png": "[encoded data removed]",
      "text/plain": [
       "<Figure size 1080x648 with 3 Axes>"
      ]
     },
     "metadata": {
      "needs_background": "light",
      "tags": []
     },
     "output_type": "display_data"
    }
   ],
   "source": [
    "df_plot = df\n",
    "df_plot[df_plot.columns.to_list()].plot(subplots=True, figsize=(15, 9))\n",
    "plt.show()"
   ]
  },
  {
   "cell_type": "markdown",
   "metadata": {
    "id": "t_rxkeQ8y__i"
   },
   "source": [
    "Plot dates vs Average temperature"
   ]
  },
  {
   "cell_type": "code",
   "execution_count": 17,
   "metadata": {
    "id": "Ga7zyqD_v6rV"
   },
   "outputs": [],
   "source": [
    "dates = df['dt'].values\n",
    "temperatures = df['AverageTemperature'].values"
   ]
  },
  {
   "cell_type": "code",
   "execution_count": 18,
   "metadata": {
    "colab": {
     "base_uri": "https://localhost:8080/",
     "height": 589
    },
    "id": "-UOLJGqhv6tV",
    "outputId": "7a603b76-411c-459c-8a6d-2a12ec740ea2"
   },
   "outputs": [
    {
     "data": {
      "text/plain": [
       "Text(0.5, 0, 'Datetime')"
      ]
     },
     "execution_count": 18,
     "metadata": {
      "tags": []
     },
     "output_type": "execute_result"
    },
    {
     "data": {
      "image/png": "[encoded data removed]",
      "text/plain": [
       "<Figure size 1080x648 with 1 Axes>"
      ]
     },
     "metadata": {
      "needs_background": "light",
      "tags": []
     },
     "output_type": "display_data"
    }
   ],
   "source": [
    "plt.figure(figsize=(15,9))\n",
    "plt.plot(dates, temperatures)\n",
    "\n",
    "plt.title('Average Temperature', fontsize = 20)\n",
    "plt.ylabel('Temperature')\n",
    "plt.xlabel('Datetime')"
   ]
  },
  {
   "cell_type": "markdown",
   "metadata": {
    "id": "-TPyKWOvzjob"
   },
   "source": [
    "Membagi dataset menjadi data **train 80%** dan **validation 20%**"
   ]
  },
  {
   "cell_type": "code",
   "execution_count": 19,
   "metadata": {
    "id": "-mT7Zd-pv66J"
   },
   "outputs": [],
   "source": [
    "x_train, x_valid, y_train, y_valid = train_test_split(temperatures, dates, test_size = 0.2, shuffle = False)"
   ]
  },
  {
   "cell_type": "code",
   "execution_count": 20,
   "metadata": {
    "colab": {
     "base_uri": "https://localhost:8080/"
    },
    "id": "3mDtaQyev688",
    "outputId": "7d8b66ce-8c54-4a14-9abb-33e79e87c7c8"
   },
   "outputs": [
    {
     "name": "stdout",
     "output_type": "stream",
     "text": [
      "Total Data Train :  15265\n",
      "Total Data Validation :  3817\n"
     ]
    }
   ],
   "source": [
    "print('Total Data Train : ',len(x_train))\n",
    "print('Total Data Validation : ',len(x_valid))"
   ]
  },
  {
   "cell_type": "markdown",
   "metadata": {
    "id": "cw2dbfZ-0UGa"
   },
   "source": [
    "Membuat function Transformasi data ke dalam model"
   ]
  },
  {
   "cell_type": "code",
   "execution_count": 21,
   "metadata": {
    "id": "7DOt1PRG0Oph"
   },
   "outputs": [],
   "source": [
    "def windowed_dataset(series, window_size, batch_size, shuffle_buffer):\n",
    "  series = tf.expand_dims(series, axis=-1)\n",
    "  ds = tf.data.Dataset.from_tensor_slices(series)\n",
    "  ds = ds.window(window_size + 1, shift=1, drop_remainder = True)\n",
    "  ds = ds.flat_map(lambda w: w.batch(window_size + 1))\n",
    "  ds = ds.shuffle(shuffle_buffer)\n",
    "  ds = ds.map(lambda w: (w[:-1], w[-1:]))\n",
    "  return ds.batch(batch_size).prefetch(1)"
   ]
  },
  {
   "cell_type": "markdown",
   "metadata": {
    "id": "5-5WzqNQ0q90"
   },
   "source": [
    "Pemodelan Sequential dengan Bidrectional LSTM"
   ]
  },
  {
   "cell_type": "code",
   "execution_count": 22,
   "metadata": {
    "id": "VxBwweon0OsD"
   },
   "outputs": [],
   "source": [
    "tf.keras.backend.set_floatx('float64')\n",
    "\n",
    "train_set = windowed_dataset(x_train, window_size=64, batch_size=200, shuffle_buffer=1000)\n",
    "val_set = windowed_dataset(x_valid, window_size=64, batch_size=200, shuffle_buffer=1000)\n",
    "\n",
    "model = Sequential([\n",
    "    Bidirectional(LSTM(60, return_sequences=True)),\n",
    "    Bidirectional(LSTM(60)),\n",
    "    Dense(30, activation=\"relu\"),\n",
    "    Dense(10, activation=\"relu\"),\n",
    "    Dense(1),\n",
    "])"
   ]
  },
  {
   "cell_type": "markdown",
   "metadata": {
    "id": "rFa3NiBE1ASj"
   },
   "source": [
    "Menghitung nilai 10% MAE untuk penerapan callback pada saat pelatihan"
   ]
  },
  {
   "cell_type": "code",
   "execution_count": 23,
   "metadata": {
    "colab": {
     "base_uri": "https://localhost:8080/"
    },
    "id": "Pu5dOubC0OuT",
    "outputId": "405d7103-26f7-4a18-a3ce-04ddf5870b8b"
   },
   "outputs": [
    {
     "name": "stdout",
     "output_type": "stream",
     "text": [
      "2.5855000000000015\n"
     ]
    }
   ],
   "source": [
    "Mae = (df['AverageTemperature'].max() - df['AverageTemperature'].min()) * 10/100\n",
    "print(Mae)"
   ]
  },
  {
   "cell_type": "code",
   "execution_count": 24,
   "metadata": {
    "id": "FK97RuGr0Owi"
   },
   "outputs": [],
   "source": [
    "class myCallback(tf.keras.callbacks.Callback):\n",
    "  def on_epoch_end(self, epoch, logs={}):\n",
    "    if(logs.get('mae')<2.5 and logs.get('val_mae')<2.5):\n",
    "      print(\"\\nMAE dari model < 10% skala data\")\n",
    "      self.model.stop_training = True\n",
    "callbacks = myCallback()"
   ]
  },
  {
   "cell_type": "markdown",
   "metadata": {
    "id": "7mhuaIHF1jEn"
   },
   "source": [
    "Penggunaan learning rate pada optimasi SGD"
   ]
  },
  {
   "cell_type": "code",
   "execution_count": 25,
   "metadata": {
    "colab": {
     "base_uri": "https://localhost:8080/"
    },
    "id": "WHSNbkAP0Oyp",
    "outputId": "874e1fee-15b1-4ce6-8eea-a7ef934f7809"
   },
   "outputs": [
    {
     "name": "stdout",
     "output_type": "stream",
     "text": [
      "Epoch 1/100\n",
      "77/77 [==============================] - 85s 1s/step - loss: 14.5006 - mae: 15.0006 - val_loss: 16.2273 - val_mae: 16.7273\n",
      "Epoch 2/100\n",
      "77/77 [==============================] - 88s 1s/step - loss: 9.6710 - mae: 10.1662 - val_loss: 6.9533 - val_mae: 7.4531\n",
      "Epoch 3/100\n",
      "77/77 [==============================] - 83s 1s/step - loss: 3.7998 - mae: 4.2742 - val_loss: 3.3534 - val_mae: 3.8249\n",
      "Epoch 4/100\n",
      "77/77 [==============================] - 80s 1s/step - loss: 3.5715 - mae: 4.0455 - val_loss: 3.2736 - val_mae: 3.7451\n",
      "Epoch 5/100\n",
      "77/77 [==============================] - 80s 1s/step - loss: 3.4228 - mae: 3.8952 - val_loss: 2.8074 - val_mae: 3.2788\n",
      "Epoch 6/100\n",
      "77/77 [==============================] - 80s 1s/step - loss: 3.2509 - mae: 3.7220 - val_loss: 2.5682 - val_mae: 3.0379\n",
      "Epoch 7/100\n",
      "77/77 [==============================] - 81s 1s/step - loss: 3.1253 - mae: 3.5952 - val_loss: 2.4072 - val_mae: 2.8741\n",
      "Epoch 8/100\n",
      "77/77 [==============================] - 81s 1s/step - loss: 2.9176 - mae: 3.3874 - val_loss: 2.3379 - val_mae: 2.8019\n",
      "Epoch 9/100\n",
      "77/77 [==============================] - 78s 1s/step - loss: 2.7093 - mae: 3.1809 - val_loss: 2.0595 - val_mae: 2.5232\n",
      "Epoch 10/100\n",
      "77/77 [==============================] - 83s 1s/step - loss: 2.4810 - mae: 2.9500 - val_loss: 1.6859 - val_mae: 2.1402\n",
      "Epoch 11/100\n",
      "77/77 [==============================] - 77s 998ms/step - loss: 2.3354 - mae: 2.8042 - val_loss: 1.5160 - val_mae: 1.9640\n",
      "Epoch 12/100\n",
      "77/77 [==============================] - 78s 1s/step - loss: 2.2543 - mae: 2.7229 - val_loss: 1.5523 - val_mae: 1.9978\n",
      "Epoch 13/100\n",
      "77/77 [==============================] - 78s 1s/step - loss: 2.1836 - mae: 2.6510 - val_loss: 2.1340 - val_mae: 2.5887\n",
      "Epoch 14/100\n",
      "77/77 [==============================] - 78s 1s/step - loss: 2.2085 - mae: 2.6748 - val_loss: 1.4814 - val_mae: 1.9286\n",
      "Epoch 15/100\n",
      "77/77 [==============================] - 78s 1s/step - loss: 2.0954 - mae: 2.5608 - val_loss: 1.3729 - val_mae: 1.8173\n",
      "Epoch 16/100\n",
      "77/77 [==============================] - ETA: 0s - loss: 2.0091 - mae: 2.4721\n",
      "MAE dari model < 10% skala data\n",
      "77/77 [==============================] - 78s 1s/step - loss: 2.0091 - mae: 2.4721 - val_loss: 1.3814 - val_mae: 1.8238\n"
     ]
    }
   ],
   "source": [
    "optimizer = tf.keras.optimizers.SGD(lr=1.0000e-04, momentum=0.9)\n",
    "\n",
    "model.compile(loss=tf.keras.losses.Huber(),\n",
    "              optimizer=optimizer,\n",
    "              metrics=[\"mae\"])\n",
    "\n",
    "history = model.fit(train_set, epochs=100, validation_data = val_set, callbacks=[callbacks])"
   ]
  },
  {
   "cell_type": "code",
   "execution_count": 26,
   "metadata": {
    "colab": {
     "base_uri": "https://localhost:8080/",
     "height": 573
    },
    "id": "yCAH_GsY0O2q",
    "outputId": "b9a1286f-081e-428b-e4f3-ecbf6223c73d"
   },
   "outputs": [
    {
     "data": {
      "image/png": "[encoded data removed]",
      "text/plain": [
       "<Figure size 432x288 with 1 Axes>"
      ]
     },
     "metadata": {
      "needs_background": "light",
      "tags": []
     },
     "output_type": "display_data"
    },
    {
     "data": {
      "image/png": "[encoded data removed]",
      "text/plain": [
       "<Figure size 432x288 with 1 Axes>"
      ]
     },
     "metadata": {
      "needs_background": "light",
      "tags": []
     },
     "output_type": "display_data"
    }
   ],
   "source": [
    "# visualisasi hasil data training\n",
    "new_colors = ['#1f77b4', '#ff7f0e', '#2ca02c', '#d62728','#9467bd', '#8c564b', '#e377c2', '#7f7f7f','#bcbd22', '#17becf']\n",
    "\n",
    "# Visualisasi Accuracy Model\n",
    "plt.plot(history.history['mae'], label='SGD', color=new_colors[0],linewidth=2)\n",
    "plt.plot(history.history['val_mae'], label='val_SGD', color=new_colors[1],linewidth=2)\n",
    "plt.title('Model Accuracy SGD ')\n",
    "plt.ylabel('Accuracy')\n",
    "plt.xlabel('Epoch')\n",
    "plt.legend(loc='center left', bbox_to_anchor=(1, 0.5))\n",
    "plt.show()\n",
    "# Visualisasi Loss Model\n",
    "plt.plot(history.history['loss'], label='SGD', color=new_colors[2],linewidth=2)\n",
    "plt.plot(history.history['val_loss'], label='val_SGD', color=new_colors[3],linewidth=2)\n",
    "plt.title('Model Loss SGD')\n",
    "plt.ylabel('Loss')\n",
    "plt.xlabel('Epoch')\n",
    "plt.legend(loc='center left', bbox_to_anchor=(1, 0.5))\n",
    "plt.show()"
   ]
  }
 ],
 "metadata": {
  "colab": {
   "name": "Submission 2 Time Series.ipynb",
   "provenance": []
  },
  "kernelspec": {
   "display_name": "Python 3",
   "language": "python",
   "name": "python3"
  },
  "language_info": {
   "codemirror_mode": {
    "name": "ipython",
    "version": 3
   },
   "file_extension": ".py",
   "mimetype": "text/x-python",
   "name": "python",
   "nbconvert_exporter": "python",
   "pygments_lexer": "ipython3",
   "version": "3.6.12"
  }
 },
 "nbformat": 4,
 "nbformat_minor": 1
}
